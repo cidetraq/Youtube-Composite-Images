{
 "cells": [
  {
   "cell_type": "code",
   "execution_count": 43,
   "metadata": {},
   "outputs": [],
   "source": [
    "#Do this first to override google's argparse\n",
    "from apiclient.discovery import build\n",
    "import requests\n",
    "from google_auth_oauthlib.flow import InstalledAppFlow\n",
    "from googleapiclient.errors import HttpError\n",
    "import user_config\n",
    "import argparse\n",
    "#Relies on oauth2client\n",
    "from oauth2client import client\n",
    "from oauth2client.tools import run_flow\n",
    "from oauth2client.file import Storage"
   ]
  },
  {
   "cell_type": "code",
   "execution_count": 2,
   "metadata": {},
   "outputs": [],
   "source": [
    "import user_config\n",
    "DEVELOPER_KEY=user_config.DEVELOPER_KEY\n",
    "CLIENT_SECRETS_FILE='client_secrets.json'\n",
    "SCOPES=[\"https://www.googleapis.com/auth/youtube\"]\n",
    "API_SERVICE_NAME='youtube'\n",
    "API_VERSION='v3'"
   ]
  },
  {
   "cell_type": "markdown",
   "metadata": {},
   "source": [
    "youtube=build('youtube', 'v3', developerKey=DEVELOPER_KEY)\n",
    "youtube.client_id='playlist-test'\n",
    "playlist_items=youtube.playlistItems().list(part='snippet', playlistId='PL_DbUpBdiJTFnQDKIHl87bbuNrkNz7C_L')\n",
    "result=playlist_items.execute()\\\n",
    "result"
   ]
  },
  {
   "cell_type": "code",
   "execution_count": 3,
   "metadata": {},
   "outputs": [],
   "source": [
    "def build_resource(properties):\n",
    "    resource = {}\n",
    "    for p in properties:\n",
    "        # Given a key like \"snippet.title\", split into \"snippet\" and \"title\", where\n",
    "        # \"snippet\" will be an object and \"title\" will be a property in that object.\n",
    "        prop_array = p.split('.')\n",
    "        ref = resource\n",
    "        for pa in range(0, len(prop_array)):\n",
    "            is_array = False\n",
    "            key = prop_array[pa]\n",
    "\n",
    "              # For properties that have array values, convert a name like\n",
    "              # \"snippet.tags[]\" to snippet.tags, and set a flag to handle\n",
    "              # the value as an array.\n",
    "            if key[-2:] == '[]':\n",
    "                key = key[0:len(key)-2:]\n",
    "                is_array = True\n",
    "\n",
    "            if pa == (len(prop_array) - 1):\n",
    "                # Leave properties without values out of inserted resource.\n",
    "                if properties[p]:\n",
    "                    if is_array:\n",
    "                        ref[key] = properties[p].split(',')\n",
    "                    else:\n",
    "                        ref[key] = properties[p]\n",
    "            elif key not in ref:\n",
    "                # For example, the property is \"snippet.title\", but the resource does\n",
    "                # not yet have a \"snippet\" object. Create the snippet object here.\n",
    "                # Setting \"ref = ref[key]\" means that in the next time through the\n",
    "                # \"for pa in range ...\" loop, we will be setting a property in the\n",
    "                # resource's \"snippet\" object.\n",
    "                ref[key] = {}\n",
    "                ref = ref[key]\n",
    "            else:\n",
    "            # For example, the property is \"snippet.description\", and the resource\n",
    "            # already has a \"snippet\" object.\n",
    "                ref = ref[key]\n",
    "    return resource"
   ]
  },
  {
   "cell_type": "code",
   "execution_count": 26,
   "metadata": {},
   "outputs": [],
   "source": [
    "def playlists_insert(client, properties, **kwargs):\n",
    "    # See full sample for function\n",
    "    resource = build_resource(properties)\n",
    "\n",
    "    # See full sample for function\n",
    "    kwargs = remove_empty_kwargs(**kwargs)\n",
    "\n",
    "    response = client.playlists().insert(\n",
    "    body=resource,\n",
    "    **kwargs\n",
    "    ).execute()\n",
    "\n",
    "    return response"
   ]
  },
  {
   "cell_type": "code",
   "execution_count": 6,
   "metadata": {},
   "outputs": [],
   "source": [
    "def playlist_items_insert(client, properties, **kwargs):\n",
    "    # See full sample for function\n",
    "    resource = build_resource(properties)\n",
    "\n",
    "    # See full sample for function\n",
    "    kwargs = remove_empty_kwargs(**kwargs)\n",
    "\n",
    "    response = client.playlistItems().insert(\n",
    "    body=resource,\n",
    "    **kwargs\n",
    "    ).execute()\n",
    "\n",
    "    return response"
   ]
  },
  {
   "cell_type": "code",
   "execution_count": 7,
   "metadata": {},
   "outputs": [],
   "source": [
    "def remove_empty_kwargs(**kwargs):\n",
    "    good_kwargs = {}\n",
    "    if kwargs is not None:\n",
    "        for key, value in kwargs.items():\n",
    "            if value:\n",
    "                good_kwargs[key] = value\n",
    "    return good_kwargs"
   ]
  },
  {
   "cell_type": "code",
   "execution_count": 8,
   "metadata": {},
   "outputs": [],
   "source": [
    "def print_response(response):\n",
    "    print(response)"
   ]
  },
  {
   "cell_type": "code",
   "execution_count": 42,
   "metadata": {},
   "outputs": [],
   "source": [
    "def get_authenticated_service(): # Modified\n",
    "    credential_path = 'credentials.json'\n",
    "    store = Storage(credential_path)\n",
    "    credentials = store.get()\n",
    "    if not credentials or credentials.invalid:\n",
    "        flow = client.flow_from_clientsecrets(CLIENT_SECRETS_FILE, SCOPES)\n",
    "        credentials = run_flow(flow, store)\n",
    "    return build(API_SERVICE_NAME, API_VERSION, credentials=credentials)"
   ]
  },
  {
   "cell_type": "code",
   "execution_count": 10,
   "metadata": {},
   "outputs": [],
   "source": [
    "def youtube_search(client, options):\n",
    "    # Call the search.list method to retrieve results matching the specified\n",
    "    # query term.\n",
    "    query=options.q\n",
    "    max_results=options.m\n",
    "    search_response = client.search().list(\n",
    "    q=query,\n",
    "    part='id',\n",
    "    maxResults=max_results\n",
    "    ).execute()\n",
    "\n",
    "    video_ids = []\n",
    "    #channels = []\n",
    "    #playlists = []\n",
    "\n",
    "    for search_result in search_response.get('items', []):\n",
    "        if search_result['id']['kind'] == 'youtube#video':\n",
    "            video_ids.append('%s' % (search_result['id']['videoId']))\n",
    "            \n",
    "    return video_ids"
   ]
  },
  {
   "cell_type": "code",
   "execution_count": 36,
   "metadata": {},
   "outputs": [],
   "source": [
    "def main(client, options):\n",
    "    query=options.q\n",
    "    new_playlist_properties={'snippet.title': query,\n",
    "    #'snippet.description': 'Test',\n",
    "    #'snippet.tags[]': 'Test',\n",
    "    'snippet.defaultLanguage': 'en',\n",
    "    'status.privacyStatus': 'public'}\n",
    "    try:\n",
    "        new_playlist_id=playlists_insert(client, new_playlist_properties, part='snippet,status')['id']\n",
    "        video_ids=youtube_search(client, options)\n",
    "        for video_id in video_ids:\n",
    "            video_add_properties={'snippet.playlistId': new_playlist_id,\n",
    "            'snippet.resourceId.kind': 'youtube#video',\n",
    "            'snippet.resourceId.videoId': video_id\n",
    "            }\n",
    "            playlist_items_insert(client, video_add_properties, part='snippet')\n",
    "    except HttpError as e:\n",
    "        print('An HTTP error %d occurred:\\n%s' % (e.resp.status, e.content))\n",
    "    print('Process completed.')"
   ]
  },
  {
   "cell_type": "markdown",
   "metadata": {},
   "source": [
    "class test_options:\n",
    "    q='Brian Eno'\n",
    "    max_results=2"
   ]
  },
  {
   "cell_type": "markdown",
   "metadata": {},
   "source": [
    "test_search=youtube_search(client, test_options)"
   ]
  },
  {
   "cell_type": "markdown",
   "metadata": {},
   "source": [
    "test_search"
   ]
  },
  {
   "cell_type": "markdown",
   "metadata": {},
   "source": [
    "import datetime\n",
    "str(datetime.datetime.now())"
   ]
  },
  {
   "cell_type": "markdown",
   "metadata": {},
   "source": [
    "test_response=playlists_insert(client, \n",
    "    {'snippet.title': str(datetime.datetime.now()),\n",
    "     #'snippet.description': '',\n",
    "     #'snippet.tags[]': '',\n",
    "     'snippet.defaultLanguage': 'en',\n",
    "     'status.privacyStatus': 'public'},\n",
    "    part='snippet,status')"
   ]
  },
  {
   "cell_type": "markdown",
   "metadata": {},
   "source": [
    "test_response['id']"
   ]
  },
  {
   "cell_type": "markdown",
   "metadata": {},
   "source": [
    "query='Test2'\n",
    "play_id='123'\n",
    "video_id='456'"
   ]
  },
  {
   "cell_type": "markdown",
   "metadata": {},
   "source": [
    "new_playlist=playlists_insert(client, properties, part='id')"
   ]
  },
  {
   "cell_type": "markdown",
   "metadata": {},
   "source": [
    "playlist_items_insert(client, \n",
    "    {'snippet.playlistId': '',\n",
    "     'snippet.resourceId.kind': 'youtube#video',\n",
    "     'snippet.resourceId.videoId': 'M7FIvfx5J10',\n",
    "     #'snippet.position': '',\n",
    "    },\n",
    "    #part='id'\n",
    "    #onBehalfOfContentOwner='')\n",
    "                     )"
   ]
  },
  {
   "cell_type": "markdown",
   "metadata": {},
   "source": [
    "try:\n",
    "    videos_to_add=youtube_search(args)\n",
    "except HttpError, e:\n",
    "    print('An HTTP error %d occurred:\\n%s' % (e.resp.status, e.content))"
   ]
  },
  {
   "cell_type": "code",
   "execution_count": null,
   "metadata": {},
   "outputs": [],
   "source": [
    "#imports()\n",
    "client=get_authenticated_service()\n",
    "if __name__ == '__main__':\n",
    "    parser = argparse.ArgumentParser()\n",
    "    parser.add_argument('-q', type=str, help='Search term')\n",
    "    parser.add_argument('-m', type=int, help='Max results', default=25)\n",
    "    #parser.add_argument('-a', '--add-existing', help='Specify playlist name or leave blank to create new playlist', default=None)\n",
    "    args = parser.parse_args()\n",
    "    main(client,args)"
   ]
  }
 ],
 "metadata": {
  "kernelspec": {
   "display_name": "Python [conda env:scripting]",
   "language": "python",
   "name": "conda-env-scripting-py"
  },
  "language_info": {
   "codemirror_mode": {
    "name": "ipython",
    "version": 3
   },
   "file_extension": ".py",
   "mimetype": "text/x-python",
   "name": "python",
   "nbconvert_exporter": "python",
   "pygments_lexer": "ipython3",
   "version": "3.7.1"
  }
 },
 "nbformat": 4,
 "nbformat_minor": 2
}
